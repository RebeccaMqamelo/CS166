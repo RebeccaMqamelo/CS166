{
 "cells": [
  {
   "cell_type": "markdown",
   "metadata": {},
   "source": [
    "CS166 Pre-class work 10.2\n",
    "# Random Numbers from Simulations\n",
    "#### March 19, 2020 | Rebecca Mqamelo "
   ]
  },
  {
   "cell_type": "markdown",
   "metadata": {},
   "source": [
    "### 1. Exercise 14, page 96: Sampling bias for bus waiting times:\n",
    "Suppose the interarrival time for a city bus has an exponential distribution with parameter 1/λ. A passenger arrives at a uniformly random time and records the time until the next bus arrives. What is the expected waiting time? Use a simulation to get an answer. Is the answer surprising? Now suppose instead that the interarrival time is U(0, 2λ). How does this change the situation? (Notice that the expected interarrival time is λ in both cases.)"
   ]
  },
  {
   "cell_type": "code",
   "execution_count": 1,
   "metadata": {},
   "outputs": [
    {
     "name": "stdout",
     "output_type": "stream",
     "text": [
      "Average wait time with exponential distribution: 1.0213504849456063\n",
      "Average wait time with uniform distribution: 0.6906625176772793\n"
     ]
    }
   ],
   "source": [
    "import numpy as np\n",
    "\n",
    "trials = 1000\n",
    "busses= 1000\n",
    "lamb = 1\n",
    "\n",
    "interarrival_times_exp = np.cumsum(np.random.exponential(1/lamb, busses))\n",
    "observed_times_exp = []\n",
    "\n",
    "for i in range(trials):\n",
    "    passenger_arrival_time = np.random.uniform(0, interarrival_times_exp[-1])\n",
    "    arrived_after = interarrival_times_exp.searchsorted(passenger_arrival_time)\n",
    "    wait_time = interarrival_times_exp[arrived_after] - passenger_arrival_time\n",
    "    observed_times_exp.append(wait_time)\n",
    "    \n",
    "print(\"Average wait time with exponential distribution: \" + str(np.mean(observed_times_exp)))\n",
    "\n",
    "interarrival_times_uni = np.cumsum(np.random.uniform(0,2*lamb,busses))\n",
    "observed_times_uni = []\n",
    "for i in range(trials):\n",
    "    passenger_arrival_time = np.random.uniform(0, interarrival_times_uni[-1])\n",
    "    arrived_after = interarrival_times_uni.searchsorted(passenger_arrival_time)\n",
    "    wait_time = interarrival_times_uni[arrived_after]-passenger_arrival_time\n",
    "    observed_times_uni.append(wait_time)\n",
    "    \n",
    "print(\"Average wait time with uniform distribution: \" + str(np.mean(observed_times_uni)))"
   ]
  },
  {
   "cell_type": "markdown",
   "metadata": {},
   "source": [
    "### 2. Exercise 24, page 98: Retirement benefit projection:\n",
    "At age 50 Fannie Mae has 150,000 invested and will be investing another 10,000 per year until age 70. Each year the investment grows according to an interest rate that is normally distributed with mean 8% and standard deviation 9%. At age 70, Fannie Mae then retires and withdraws 65,000 per year until death. Below is given a conditional death probability table. Thus if Fannie Mae lives until age 70, then the probability of dying before age 71 is 0.04979. Simulate this process 1000 times and histogram the amount of money Fannie Mae has at death."
   ]
  },
  {
   "cell_type": "code",
   "execution_count": 2,
   "metadata": {},
   "outputs": [],
   "source": [
    "data = {\n",
    "50: 0.00832, 51: 0.00911, 52: 0.00996, 53: 0.01089, 54: 0.01190,\n",
    "55: 0.01300, 56: 0.01421, 57: 0.01554, 58: 0.01700, 59: 0.01859,\n",
    "60: 0.02034, 61: 0.02224, 62: 0.02431, 63: 0.02657, 64: 0.02904,\n",
    "65: 0.03175, 66: 0.03474, 67: 0.03804, 68: 0.04168, 69: 0.04561,\n",
    "70: 0.04979, 71: 0.05415, 72: 0.05865, 73: 0.06326, 74: 0.06812,\n",
    "75: 0.07337, 76: 0.07918, 77: 0.08570, 78: 0.09306, 79: 0.10119,\n",
    "80: 0.10998, 81: 0.11935, 82: 0.12917, 83: 0.13938, 84: 0.15001,\n",
    "85: 0.16114, 86: 0.17282, 87: 0.18513, 88: 0.19825, 89: 0.21246,\n",
    "90: 0.22814, 91: 0.24577, 92: 0.26593, 93: 0.28930, 94: 0.31666,\n",
    "95: 0.35124, 96: 0.40056, 97: 0.48842, 98: 0.66815, 99: 0.72000,\n",
    "100: 0.76000, 101: 0.80000, 102: 0.85000, 103: 0.90000,\n",
    "104: 0.96000, 105: 1.00000}"
   ]
  },
  {
   "cell_type": "code",
   "execution_count": 5,
   "metadata": {},
   "outputs": [
    {
     "data": {
      "image/png": "[encoded data removed]",
      "text/plain": [
       "<Figure size 1008x432 with 1 Axes>"
      ]
     },
     "metadata": {
      "needs_background": "light"
     },
     "output_type": "display_data"
    },
    {
     "data": {
      "image/png": "[encoded data removed]",
      "text/plain": [
       "<Figure size 432x288 with 1 Axes>"
      ]
     },
     "metadata": {
      "needs_background": "light"
     },
     "output_type": "display_data"
    }
   ],
   "source": [
    "from matplotlib import pyplot as plt\n",
    "\n",
    "init_invest_age = 50\n",
    "retirement_age = 70\n",
    "init_invest_amount = 150000\n",
    "annu_invest_amount = 10000\n",
    "annu_withdrawl_amount = 65000\n",
    "interest_mean = 0.08\n",
    "interest_std = 0.09\n",
    "\n",
    "trials = 1000\n",
    "\n",
    "final_balances=[]\n",
    "final_ages=[]\n",
    "for trial in range(trials):\n",
    "    balance=init_invest_amount\n",
    "    for year in range(init_invest_age, 105):\n",
    "        interest = np.random.normal(interest_mean, interest_std)\n",
    "        balance += balance*interest\n",
    "        if np.random.random() < data[year]:\n",
    "            final_balances.append(balance)\n",
    "            final_ages.append(year)\n",
    "            break\n",
    "        if year < retirement_age:\n",
    "            balance += 10000\n",
    "        else:\n",
    "            balance -= 65000\n",
    "\n",
    "plt.figure(figsize=(14,6))\n",
    "plt.hist(final_balances, density=True, bins=30)\n",
    "plt.show()\n",
    "plt.hist(final_ages, density=True, bins=30)\n",
    "plt.show()"
   ]
  },
  {
   "cell_type": "code",
   "execution_count": null,
   "metadata": {},
   "outputs": [],
   "source": []
  }
 ],
 "metadata": {
  "kernelspec": {
   "display_name": "Python 3",
   "language": "python",
   "name": "python3"
  },
  "language_info": {
   "codemirror_mode": {
    "name": "ipython",
    "version": 3
   },
   "file_extension": ".py",
   "mimetype": "text/x-python",
   "name": "python",
   "nbconvert_exporter": "python",
   "pygments_lexer": "ipython3",
   "version": "3.7.4"
  }
 },
 "nbformat": 4,
 "nbformat_minor": 2
}
