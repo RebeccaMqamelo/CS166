{
 "cells": [
  {
   "cell_type": "code",
   "execution_count": 13,
   "metadata": {},
   "outputs": [],
   "source": [
    "import matplotlib\n",
    "from pylab import *\n",
    "import networkx as nx\n",
    "import random as rd\n",
    "import pandas as pd\n",
    "import numpy as np"
   ]
  },
  {
   "cell_type": "code",
   "execution_count": 3,
   "metadata": {},
   "outputs": [
    {
     "name": "stderr",
     "output_type": "stream",
     "text": [
      "/Users/rebeccamqamelo/opt/anaconda3/lib/python3.7/site-packages/networkx/drawing/nx_pylab.py:579: MatplotlibDeprecationWarning: \n",
      "The iterable function was deprecated in Matplotlib 3.1 and will be removed in 3.3. Use np.iterable instead.\n",
      "  if not cb.iterable(width):\n"
     ]
    }
   ],
   "source": [
    "matplotlib.use('TkAgg')\n",
    "\n",
    "n = 200\n",
    "p_e = 0.05\n",
    "p_i = 0.04\n",
    "p_r = 0.5\n",
    "\n",
    "def initialize():\n",
    "    global g\n",
    "    g = nx.karate_club_graph()\n",
    "    g.pos = nx.spring_layout(g)\n",
    "    for i in g.nodes:\n",
    "        g.nodes[i]['state'] = 1 if random() < p_e else 0\n",
    "\n",
    "def observe():\n",
    "    global g\n",
    "    cla()\n",
    "    nx.draw(g, vmin = 0, vmax = 1,\n",
    "        node_color = [g.nodes[i]['state'] for i in g.nodes],\n",
    "        pos = g.pos)\n",
    "\n",
    "def update():\n",
    "    # Modified from asynchronous updating to synchronous updating\n",
    "    global g\n",
    "    all_nodes = list(g.nodes)\n",
    "    \n",
    "    for node in all_nodes:\n",
    "        if g.nodes[node]['state'] == 0:\n",
    "            for neighbor in list(g.neighbors(node)):\n",
    "                if g.nodes[neighbor]['state'] == 1:\n",
    "                    g.nodes[node]['state'] = 1 if random() < p_i else 0\n",
    "        else:\n",
    "            g.nodes[node]['state'] = 0 if random() < p_r else 1\n",
    "\n",
    "import pycxsimulator\n",
    "pycxsimulator.GUI().start(func=[initialize, observe, update])"
   ]
  },
  {
   "cell_type": "markdown",
   "metadata": {},
   "source": [
    "### Question: Why does using synchronous or asynchronous updating make a difference?\n",
    "In asynchronous updates, nodes to NOT get updated at the same time, therefore the assumption that \"under that same conditions similar nodes will react similarly\" doesn't hold. At any time step, the update state of nodes depends on the order of updates between nodes."
   ]
  },
  {
   "cell_type": "markdown",
   "metadata": {},
   "source": [
    "### Question: For the mean field approximation described in Section 18.5, why is it appropriate to use the synchronous update method and not the asynchronous one?\n",
    "Synchronous updating satisfies the above assumption more strongly"
   ]
  },
  {
   "cell_type": "code",
   "execution_count": 8,
   "metadata": {},
   "outputs": [],
   "source": [
    "er = nx.erdos_renyi_graph(1000, 0.04)\n",
    "ws = nx.watts_strogatz_graph(1000,40,0.1)\n",
    "ba = nx.barabasi_albert_graph(1000,20)"
   ]
  },
  {
   "cell_type": "code",
   "execution_count": 9,
   "metadata": {},
   "outputs": [],
   "source": [
    "# Average degree of a graph\n",
    "def exp_k(g):\n",
    "    n = len(g.nodes())\n",
    "    e = len(list(g.edges))\n",
    "    print (\"Total edges: \", e)\n",
    "    k = e * 2/ n\n",
    "    print (\"Average degree: \", k)\n",
    "    return k"
   ]
  },
  {
   "cell_type": "code",
   "execution_count": 10,
   "metadata": {},
   "outputs": [],
   "source": [
    "# Average degree of each neighbor in a graph\n",
    "def exp_k_prime(g):\n",
    "    node = 0\n",
    "    deg = 0\n",
    "    for edge in g.edges():\n",
    "        for neighbor in edge:\n",
    "            deg += len(g.edges(neighbor))\n",
    "            node += 1\n",
    "    k_p = deg/node\n",
    "    print (\"Average neighbor degree: \", k_p)\n",
    "    return k_p"
   ]
  },
  {
   "cell_type": "markdown",
   "metadata": {},
   "source": [
    "### Question: How does the average degree of neighbors (the number of friends of your friends) compare to the average degree of the graph (your number of friends)?\n",
    "\n",
    "The table below shows that for ER and WS, the ave_degree of the graph is very similar to the ave_degree of the entire graph. However, for BA, there is a significant difference between the two due to prefernetial attachment – some nodes have a very high degree while far more have a very low degree."
   ]
  },
  {
   "cell_type": "code",
   "execution_count": 21,
   "metadata": {},
   "outputs": [
    {
     "name": "stdout",
     "output_type": "stream",
     "text": [
      "Total edges:  20065\n",
      "Average degree:  40.13\n",
      "Total edges:  20000\n",
      "Average degree:  40.0\n",
      "Total edges:  19600\n",
      "Average degree:  39.2\n",
      "Average neighbor degree:  41.06299526538749\n",
      "Average neighbor degree:  40.09245\n",
      "Average neighbor degree:  62.01112244897959\n",
      "Total edges:  20065\n",
      "Average degree:  40.13\n",
      "Average neighbor degree:  41.06299526538749\n",
      "Total edges:  20000\n",
      "Average degree:  40.0\n",
      "Average neighbor degree:  40.09245\n",
      "Total edges:  19600\n",
      "Average degree:  39.2\n",
      "Average neighbor degree:  62.01112244897959\n"
     ]
    },
    {
     "data": {
      "text/html": [
       "<div>\n",
       "<style scoped>\n",
       "    .dataframe tbody tr th:only-of-type {\n",
       "        vertical-align: middle;\n",
       "    }\n",
       "\n",
       "    .dataframe tbody tr th {\n",
       "        vertical-align: top;\n",
       "    }\n",
       "\n",
       "    .dataframe thead th {\n",
       "        text-align: right;\n",
       "    }\n",
       "</style>\n",
       "<table border=\"1\" class=\"dataframe\">\n",
       "  <thead>\n",
       "    <tr style=\"text-align: right;\">\n",
       "      <th></th>\n",
       "      <th>erdos_renyi</th>\n",
       "      <th>watts_strogatz</th>\n",
       "      <th>barabasi_albert</th>\n",
       "    </tr>\n",
       "  </thead>\n",
       "  <tbody>\n",
       "    <tr>\n",
       "      <td>ave_deg</td>\n",
       "      <td>40.130000</td>\n",
       "      <td>40.000000</td>\n",
       "      <td>39.200000</td>\n",
       "    </tr>\n",
       "    <tr>\n",
       "      <td>ave_neigh_deg</td>\n",
       "      <td>41.062995</td>\n",
       "      <td>40.092450</td>\n",
       "      <td>62.011122</td>\n",
       "    </tr>\n",
       "    <tr>\n",
       "      <td>ratio</td>\n",
       "      <td>0.977279</td>\n",
       "      <td>0.997694</td>\n",
       "      <td>0.632145</td>\n",
       "    </tr>\n",
       "  </tbody>\n",
       "</table>\n",
       "</div>"
      ],
      "text/plain": [
       "               erdos_renyi  watts_strogatz  barabasi_albert\n",
       "ave_deg          40.130000       40.000000        39.200000\n",
       "ave_neigh_deg    41.062995       40.092450        62.011122\n",
       "ratio             0.977279        0.997694         0.632145"
      ]
     },
     "execution_count": 21,
     "metadata": {},
     "output_type": "execute_result"
    }
   ],
   "source": [
    "graphs = [er, ws, ba]\n",
    "graph_type = ['erdos_renyi', 'watts_strogatz', 'barabasi_albert']\n",
    "ave_degree = [exp_k(graph) for graph in graphs]\n",
    "ave_degree_neighbor = [exp_k_prime(graph) for graph in graphs]\n",
    "ratio = [exp_k(graph)/exp_k_prime(graph) for graph in graphs]\n",
    "\n",
    "df = pd.DataFrame(np.array([ave_degree, ave_degree_neighbor, ratio]), \n",
    "                  columns=graph_type, index=['ave_deg', 'ave_neigh_deg', 'ratio'])\n",
    "df"
   ]
  }
 ],
 "metadata": {
  "kernelspec": {
   "display_name": "Python 3",
   "language": "python",
   "name": "python3"
  },
  "language_info": {
   "codemirror_mode": {
    "name": "ipython",
    "version": 3
   },
   "file_extension": ".py",
   "mimetype": "text/x-python",
   "name": "python",
   "nbconvert_exporter": "python",
   "pygments_lexer": "ipython3",
   "version": "3.7.4"
  }
 },
 "nbformat": 4,
 "nbformat_minor": 2
}
