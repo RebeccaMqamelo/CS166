{
 "cells": [
  {
   "cell_type": "markdown",
   "metadata": {},
   "source": [
    "CS166 Pre-class work 12.1\n",
    "# Ising Model\n",
    "#### March 31, 2020 | Rebecca Mqamelo "
   ]
  },
  {
   "cell_type": "code",
   "execution_count": 1,
   "metadata": {},
   "outputs": [],
   "source": [
    "import matplotlib as plt\n",
    "import numpy as np\n",
    "import random as rn\n",
    "%matplotlib inline\n",
    "from pylab import *"
   ]
  },
  {
   "cell_type": "code",
   "execution_count": 41,
   "metadata": {},
   "outputs": [],
   "source": [
    "class IsingModel():\n",
    "    \n",
    "    def __init__(self, size, T, steps):\n",
    "        '''Initialize system parameters'''\n",
    "        \n",
    "        self.size = size\n",
    "        self.T = T\n",
    "        self.initialize()\n",
    "        self.steps = steps\n",
    "        \n",
    "        \n",
    "    def initialize(self):\n",
    "        '''Initialize a random configuration for the system'''\n",
    "        self.state = np.random.choice([1,-1],(self.size, self.size))\n",
    "        \n",
    "        \n",
    "    def update(self):\n",
    "        '''\n",
    "        Update a randomly chosen cell according to the rules\n",
    "        '''\n",
    "        i, j = np.random.choice(range(self.size), 2)\n",
    "        \n",
    "        # Module for periodic boundary\n",
    "        neighbors = [self.state[(i-1)%self.size, j],\n",
    "                     self.state[i, (j-1)%self.size],\n",
    "                     self.state[(i+1)%self.size, j],\n",
    "                     self.state[i, (j+1)%self.size]]\n",
    "        \n",
    "        '''\n",
    "        Check how well the cell is aligned with its neighbors \n",
    "        by computing the product of the central cell with each neighbor. \n",
    "        If two cells are aligned (have the same sign), their product will \n",
    "        be +1. If two cells are misaligned (have opposite signs), their product\n",
    "        will be –1. The negative of the sum of these products is the energy of the cell.\n",
    "        '''\n",
    "        E = -1*self.state[i,j]*sum(neighbors)\n",
    "        \n",
    "        # Flip the sign of cell (i,j) with probability min(1, e^(2*E_i,j/T))\n",
    "        # where T>0 is a parameter of the model\n",
    "        if np.random.random() < min(1,np.exp(2*E/self.T)):\n",
    "            self.state[i,j] = -1*self.state[i,j]\n",
    "            \n",
    "            \n",
    "    def simulate(self, runs):\n",
    "        \n",
    "        avg_magnetism = []\n",
    "        for r in range(runs):\n",
    "            self.initialize()\n",
    "            for s in range(self.steps):\n",
    "                self.update()\n",
    "            avg_mag_i = sum(sum(self.state))/(self.size**2)\n",
    "            avg_magnetism.append(avg_mag_i)\n",
    "        \n",
    "        return avg_magnetism\n",
    "    \n",
    "    \n",
    "    def observe(self):\n",
    "        imshow(self.state, vmin=-1, vmax=1)\n"
   ]
  },
  {
   "cell_type": "code",
   "execution_count": 42,
   "metadata": {},
   "outputs": [
    {
     "data": {
      "image/png": "[encoded data removed]",
      "text/plain": [
       "<Figure size 1728x432 with 5 Axes>"
      ]
     },
     "metadata": {
      "needs_background": "light"
     },
     "output_type": "display_data"
    }
   ],
   "source": [
    "size=10\n",
    "runs=100\n",
    "steps=10000\n",
    "\n",
    "plt.figure(figsize=(24,6))\n",
    "plt.title(\"Histograms of Final Average Magnetization for T=1,2,3,4,5\")\n",
    "\n",
    "for temp in range(1,6):\n",
    "    sim = IsingModel(size, temp, steps)\n",
    "    results = sim.simulate(runs)\n",
    "    plt.subplot(1,5, temp)\n",
    "    plt.title('T={}'.format(temp), fontsize=16)\n",
    "    plt.xlim(-1,1)\n",
    "    plt.ylim(0,runs)\n",
    "    plt.hist(results)\n",
    "    \n",
    "plt.show()"
   ]
  },
  {
   "cell_type": "code",
   "execution_count": null,
   "metadata": {},
   "outputs": [],
   "source": []
  }
 ],
 "metadata": {
  "kernelspec": {
   "display_name": "Python 3",
   "language": "python",
   "name": "python3"
  },
  "language_info": {
   "codemirror_mode": {
    "name": "ipython",
    "version": 3
   },
   "file_extension": ".py",
   "mimetype": "text/x-python",
   "name": "python",
   "nbconvert_exporter": "python",
   "pygments_lexer": "ipython3",
   "version": "3.7.4"
  }
 },
 "nbformat": 4,
 "nbformat_minor": 2
}
