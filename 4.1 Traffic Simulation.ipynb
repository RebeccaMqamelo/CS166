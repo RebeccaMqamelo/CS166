{
 "cells": [
  {
   "cell_type": "markdown",
   "metadata": {},
   "source": [
    "### Note: this PCW is incomplete. Hopefully I can clarify a few things in class and get started on Assignment 2 :)\n",
    "\n",
    "* My main struggle was finding the distance of the next car; I think I will use Khan's suggestion of having two separate storage arrays for position and for velocity."
   ]
  },
  {
   "cell_type": "code",
   "execution_count": 6,
   "metadata": {},
   "outputs": [],
   "source": [
    "interactive = False  # Set this variable to True to run an interactive\n",
    "                     # simulator. This will not work on CoCalc.\n",
    "\n",
    "import matplotlib\n",
    "if interactive:\n",
    "    matplotlib.use('TkAgg')\n",
    "\n",
    "import pylab\n",
    "from random import uniform, shuffle\n",
    "import numpy as np"
   ]
  },
  {
   "cell_type": "code",
   "execution_count": 7,
   "metadata": {},
   "outputs": [
    {
     "ename": "SyntaxError",
     "evalue": "invalid syntax (<ipython-input-7-d52abe03aa2f>, line 124)",
     "output_type": "error",
     "traceback": [
      "\u001b[0;36m  File \u001b[0;32m\"<ipython-input-7-d52abe03aa2f>\"\u001b[0;36m, line \u001b[0;32m124\u001b[0m\n\u001b[0;31m    for i in self.current_state[]:\u001b[0m\n\u001b[0m                                ^\u001b[0m\n\u001b[0;31mSyntaxError\u001b[0m\u001b[0;31m:\u001b[0m invalid syntax\n"
     ]
    }
   ],
   "source": [
    "class TrafficSimulator(object):\n",
    "\n",
    "    # Mapping from the current state of a cell's neighborhood to the next state\n",
    "    # of the cell. This corresponds to Wolfram's Rule 184.\n",
    "    '''\n",
    "    ca_map = {\n",
    "        (0, 0, 0): 0,\n",
    "        (0, 0, 1): 0,\n",
    "        (0, 1, 0): 0,\n",
    "        (0, 1, 1): 1,\n",
    "        (1, 0, 0): 1,\n",
    "        (1, 0, 1): 1,\n",
    "        (1, 1, 0): 0,\n",
    "        (1, 1, 1): 1}\n",
    "    '''\n",
    "    def __init__(self, length, density, vmax, p, interactive=False):\n",
    "        '''\n",
    "        Initialize new TrafficSimulator objects with the default parameter\n",
    "        settings.\n",
    "\n",
    "        Inputs:\n",
    "\n",
    "         * length (int) The number of cells in the cellular automaton i.e. road length\n",
    "           Default: 50\n",
    "\n",
    "         * density (float) The proportion of cells that will be active (contain\n",
    "           a car) when the cellular automaton is initialized. The active cells\n",
    "           will be at random locations along the length of the CA. \n",
    "           Default: 0.2\n",
    "           \n",
    "         * vmax (int) The maximum velocity of a car. \n",
    "           Default: 5km/h\n",
    "        \n",
    "         * p (float) The probability of a car slowing down \n",
    "           Default: 0.2\n",
    "\n",
    "         * interactive (bool) Whether or not we are running an interactive\n",
    "           simulation. In CoCalc we have to run in non-interactive mode (False),\n",
    "           but in your local Python environment you should be able to run in\n",
    "           interactive mode (True). \n",
    "           Default: False  \n",
    "        '''\n",
    "        self.interactive = interactive\n",
    "        self.length = length\n",
    "        self.density = density\n",
    "        self.vmax = vmax \n",
    "        self.p = p\n",
    "\n",
    "        # Arrays for storing the current state and the next state (when we are\n",
    "        # busy doing a state update).\n",
    "        self.current_state = np.zeros(self.length)\n",
    "        self.next_state = np.zeros(self.length)\n",
    "\n",
    "    def initialize(self):\n",
    "        '''\n",
    "        This will be called by the interactive pycxsimulator whenever the Reset\n",
    "        button is clicked.\n",
    "        '''\n",
    "        # Set up a random initial state where the fraction of cars in the array\n",
    "        # equals the density parameter.\n",
    "        \n",
    "        cars_num = int(density * length)\n",
    "        initial = [0] * cars_num + [-1] * (length - cars_num)\n",
    "        shuffle(initial)\n",
    "        \n",
    "        random_indices = np.random.choice(\n",
    "            range(self.length),\n",
    "            size=int(round(self.density * self.length)),\n",
    "            replace=False)\n",
    "        \n",
    "        # Fill the road with empty cells and assign cars randomly according to traffic density\n",
    "        # np.random.choice generates a uniform random sample of velocities from np.arange(6) of size 1\n",
    "\n",
    "        self.current_state.fill(-1)  \n",
    "        self.current_state[random_indices] = np.random.choice(6, 1)[0] \n",
    "        self.time = 0 \n",
    "\n",
    "    def draw(self):\n",
    "        '''\n",
    "        Draw the current state of the cellular automaton.\n",
    "        '''\n",
    "        if self.interactive:\n",
    "            pylab.cla()  # Clear the current figure\n",
    "        else:\n",
    "            pylab.figure()  # Create a new figure\n",
    "        pylab.pcolor(\n",
    "            self.current_state.reshape((1, self.length)),\n",
    "            vmin = 0,\n",
    "            vmax = 1,\n",
    "            cmap = pylab.cm.binary)\n",
    "        pylab.axis('image')\n",
    "        pylab.title('density = ' + str(self.density) + '; t = ' + str(self.time))\n",
    "        if not self.interactive:\n",
    "            pylab.show()\n",
    "\n",
    "    def step(self):\n",
    "        '''\n",
    "        Update the state of the cellular automaton according the 4 Nagal-Schreckenberg rules.\n",
    "        '''\n",
    "        # Update all cells in parallel, except the boundaries.\n",
    "        for i in range(1, self.length - 1):\n",
    "            vel = i\n",
    "        \n",
    "            # If the current cell is empty, do nothing:\n",
    "            if vel == -1:\n",
    "                return i   \n",
    "        \n",
    "            else:\n",
    "                \n",
    "                # Randomized slowing down:\n",
    "                if random.random() < self.p:\n",
    "                    vel = max(vel - 1, 0)\n",
    "\n",
    "##############################\n",
    "#### INCOMPLETE FROM HERE ####\n",
    "##############################\n",
    "                \n",
    "                dist = 0\n",
    "\n",
    "        \n",
    "        # Find the distance to the next car\n",
    "            dist = 0\n",
    "            ind = 0\n",
    "            for i in self.current_state[]:\n",
    "                if ind == 0:\n",
    "                    ind += 1\n",
    "                    continue\n",
    "                if i == NSEMPTY:\n",
    "                    ind += 1\n",
    "                    dist += 1\n",
    "                    continue\n",
    "                break\n",
    "            \n",
    "            neighborhood = self.current_state[i-1:i+2]\n",
    "            self.next_state[i] = self.ca_map[tuple(neighborhood)]\n",
    "        \n",
    "        # Update the boundaries using periodic boundary conditions.\n",
    "        neighborhood = self.current_state[[-1, 0, 1]]\n",
    "        self.next_state[0] = self.ca_map[tuple(neighborhood)]\n",
    "        neighborhood = self.current_state[[-2, -1, 0]]\n",
    "        self.next_state[-1] = self.ca_map[tuple(neighborhood)]\n",
    "        \n",
    "        # Swap next state and current state\n",
    "        self.current_state, self.next_state = self.next_state, self.current_state\n",
    "        self.time += 1\n",
    "\n",
    "    def set_density(self, value=None):\n",
    "        '''\n",
    "        The density of cars on the road. Only affects initialization (reset) of\n",
    "        the simulation. The density must be a value between 0 and 1.\n",
    "        '''\n",
    "        if value is not None:\n",
    "            self.density = min(1, max(0, float(value)))\n",
    "        return self.density"
   ]
  },
  {
   "cell_type": "code",
   "execution_count": 3,
   "metadata": {},
   "outputs": [
    {
     "name": "stdout",
     "output_type": "stream",
     "text": [
      "Initial state:\n"
     ]
    },
    {
     "data": {
      "image/png": "[encoded data removed]",
      "text/plain": [
       "<Figure size 432x288 with 1 Axes>"
      ]
     },
     "metadata": {
      "needs_background": "light"
     },
     "output_type": "display_data"
    },
    {
     "name": "stdout",
     "output_type": "stream",
     "text": [
      "Next 5 states:\n"
     ]
    },
    {
     "data": {
      "image/png": "[encoded data removed]",
      "text/plain": [
       "<Figure size 432x288 with 1 Axes>"
      ]
     },
     "metadata": {
      "needs_background": "light"
     },
     "output_type": "display_data"
    },
    {
     "name": "stdout",
     "output_type": "stream",
     "text": [
      "\n"
     ]
    },
    {
     "data": {
      "image/png": "[encoded data removed]",
      "text/plain": [
       "<Figure size 432x288 with 1 Axes>"
      ]
     },
     "metadata": {
      "needs_background": "light"
     },
     "output_type": "display_data"
    },
    {
     "name": "stdout",
     "output_type": "stream",
     "text": [
      "\n"
     ]
    },
    {
     "data": {
      "image/png": "[encoded data removed]",
      "text/plain": [
       "<Figure size 432x288 with 1 Axes>"
      ]
     },
     "metadata": {
      "needs_background": "light"
     },
     "output_type": "display_data"
    },
    {
     "name": "stdout",
     "output_type": "stream",
     "text": [
      "\n"
     ]
    },
    {
     "data": {
      "image/png": "[encoded data removed]",
      "text/plain": [
       "<Figure size 432x288 with 1 Axes>"
      ]
     },
     "metadata": {
      "needs_background": "light"
     },
     "output_type": "display_data"
    },
    {
     "name": "stdout",
     "output_type": "stream",
     "text": [
      "\n"
     ]
    },
    {
     "data": {
      "image/png": "[encoded data removed]",
      "text/plain": [
       "<Figure size 432x288 with 1 Axes>"
      ]
     },
     "metadata": {
      "needs_background": "light"
     },
     "output_type": "display_data"
    },
    {
     "name": "stdout",
     "output_type": "stream",
     "text": [
      "\n",
      "After 100 steps:\n"
     ]
    },
    {
     "data": {
      "image/png": "[encoded data removed]",
      "text/plain": [
       "<Figure size 432x288 with 1 Axes>"
      ]
     },
     "metadata": {
      "needs_background": "light"
     },
     "output_type": "display_data"
    }
   ],
   "source": [
    "sim = TrafficSimulator(length=70, density=0.25, vmax=5, p=0.2, interactive=interactive)\n",
    "\n",
    "if interactive:\n",
    "    # Set up the interactive user interface.\n",
    "    import pycxsimulator\n",
    "    gui = pycxsimulator.GUI(parameterSetters=[sim.set_density])\n",
    "    gui.start(func=[sim.initialize, sim.draw, sim.step])\n",
    "\n",
    "else:\n",
    "    # Run the simulator for 100 steps and show some of the steps.\n",
    "    print('Initial state:')\n",
    "    sim.initialize()\n",
    "    sim.draw()\n",
    "\n",
    "    print('Next 5 states:')\n",
    "    for i in range(5):\n",
    "        sim.step()\n",
    "        sim.draw()\n",
    "        print('')\n",
    "\n",
    "    print('After 100 steps:')\n",
    "    for i in range(95):\n",
    "        sim.step()\n",
    "    sim.draw()\n"
   ]
  },
  {
   "cell_type": "markdown",
   "metadata": {},
   "source": [
    "### Next steps\n",
    "\n",
    "* You have now seen the results for a single run of the simulator.\n",
    "* Run the simulator multiple times, but using different settings of the density parameter.\n",
    "* **Question:** If each black square represents a car and each white square represents open road, how does the state after 100 steps depend on the density parameter setting?\n",
    "* Discuss with each other how the code works. In the next session you will be expected to write your own simulator of a cellular automaton, so make sure that you are comfortable with this Python implementation of a cellular automaton."
   ]
  },
  {
   "cell_type": "code",
   "execution_count": null,
   "metadata": {},
   "outputs": [],
   "source": []
  }
 ],
 "metadata": {
  "kernelspec": {
   "display_name": "Python 3",
   "language": "python",
   "name": "python3"
  },
  "language_info": {
   "codemirror_mode": {
    "name": "ipython",
    "version": 3
   },
   "file_extension": ".py",
   "mimetype": "text/x-python",
   "name": "python",
   "nbconvert_exporter": "python",
   "pygments_lexer": "ipython3",
   "version": "3.7.4"
  }
 },
 "nbformat": 4,
 "nbformat_minor": 1
}
