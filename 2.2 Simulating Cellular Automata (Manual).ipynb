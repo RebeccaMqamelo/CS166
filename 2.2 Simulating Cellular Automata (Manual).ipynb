{
 "cells": [
  {
   "cell_type": "code",
   "execution_count": 1,
   "metadata": {},
   "outputs": [],
   "source": [
    "## \"pycxsimulator.py\"\n",
    "## Realtime Simulation GUI for PyCX\n",
    "##\n",
    "## Developed by:\n",
    "## Chun Wong\n",
    "## email@chunwong.net\n",
    "##\n",
    "## Revised by:\n",
    "## Hiroki Sayama\n",
    "## sayama@binghamton.edu\n",
    "##\n",
    "## Copyright 2012 Chun Wong & Hiroki Sayama\n",
    "##\n",
    "## Simulation control & GUI extensions\n",
    "## Copyright 2013 Przemyslaw Szufel & Bogumil Kaminski\n",
    "## {pszufe, bkamins}@sgh.waw.pl\n",
    "##\n",
    "## Fixing errors due to \"the grid and pack problem\" by:\n",
    "## Toshihiro Tanizawa\n",
    "## tanizawa@ee.kochi-ct.ac.jp\n",
    "## began at 2016-06-15(Wed) 17:10:17\n",
    "## fixed grid() and pack() problem on 2016-06-21(Tue) 18:29:40\n",
    "##\n",
    "## The following two lines should be placed at the beginning of your simulator code:\n",
    "##\n",
    "## import matplotlib\n",
    "## matplotlib.use('TkAgg')\n",
    "\n",
    "import pylab as PL\n",
    "from tkinter import ttk\n",
    "from tkinter import *\n",
    "from tkinter.ttk import Notebook\n",
    "\n",
    "\n",
    "class GUI:\n",
    "\n",
    "    ## GUI variables\n",
    "    titleText = 'PyCX Simulator'  # window title\n",
    "    timeInterval = 0              # refresh time in milliseconds\n",
    "    running = False\n",
    "    modelFigure = None\n",
    "    stepSize = 1\n",
    "    currentStep = 0\n",
    "    \n",
    "    # Constructor\n",
    "    def __init__(self, title='PyCX Simulator', interval=0, stepSize=1, parameterSetters=[]):\n",
    "        self.titleText = title\n",
    "        self.timeInterval = interval\n",
    "        self.stepSize = stepSize\n",
    "        self.parameterSetters = parameterSetters\n",
    "        self.varEntries = {}\n",
    "        self.statusStr = \"\"\n",
    "               \n",
    "        self.initGUI()\n",
    "        \n",
    "        \n",
    "    # Initialization\n",
    "    def initGUI(self):\n",
    "        \n",
    "        #create root window\n",
    "        self.rootWindow = Tk()\n",
    "        self.statusText = StringVar(value=self.statusStr) # at this point, statusStr = \"\"\n",
    "        self.setStatusStr(\"Simulation not yet started\")\n",
    "\n",
    "        self.rootWindow.wm_title(self.titleText) # titleText = 'PyCX Simulator'\n",
    "        self.rootWindow.protocol('WM_DELETE_WINDOW', self.quitGUI)\n",
    "        self.rootWindow.geometry('450x300')\n",
    "        self.rootWindow.columnconfigure(0, weight=1)\n",
    "        self.rootWindow.rowconfigure(0, weight=1)\n",
    "        \n",
    "        self.notebook = Notebook(self.rootWindow)      \n",
    "        # self.notebook.grid(row=0,column=0,padx=2,pady=2,sticky='nswe') # commented out by toshi on 2016-06-21(Tue) 18:30:25\n",
    "        self.notebook.pack(side=TOP, padx=2, pady=2)\n",
    "        \n",
    "        self.frameRun = Frame()\n",
    "        self.frameSettings = Frame()\n",
    "        self.frameParameters = Frame()\n",
    "        self.frameInformation = Frame()          \n",
    "        \n",
    "        self.notebook.add(self.frameRun,text=\"Run\")\n",
    "        self.notebook.add(self.frameSettings,text=\"Settings\")\n",
    "        self.notebook.add(self.frameParameters,text=\"Parameters\")\n",
    "        self.notebook.add(self.frameInformation,text=\"Info\")\n",
    "        self.notebook.pack(expand=NO, fill=BOTH, padx=5, pady=5 ,side=TOP)\n",
    "        # self.notebook.grid(row=0, column=0, padx=5, pady=5, sticky='nswe')   # commented out by toshi on 2016-06-21(Tue) 18:31:02\n",
    "        \n",
    "        self.status = Label(self.rootWindow, width=40,height=3, relief=SUNKEN, bd=1, textvariable=self.statusText)\n",
    "        # self.status.grid(row=1,column=0,padx=5,pady=5,sticky='nswe') # commented out by toshi on 2016-06-21(Tue) 18:31:17\n",
    "        self.status.pack(side=TOP, fill=X, padx=5, pady=5, expand=NO)\n",
    "\n",
    "        # -----------------------------------\n",
    "        # frameRun\n",
    "        # -----------------------------------\n",
    "        # buttonRun\n",
    "        self.runPauseString = StringVar()\n",
    "        self.runPauseString.set(\"Run\")\n",
    "        self.buttonRun = Button(self.frameRun,width=30,height=2,textvariable=self.runPauseString,command=self.runEvent)\n",
    "        self.buttonRun.pack(side=TOP, padx=5, pady=5)\n",
    "        self.showHelp(self.buttonRun,\"Runs the simulation (or pauses the running simulation)\")\n",
    "        \n",
    "        # buttonStep\n",
    "        self.buttonStep = Button(self.frameRun,width=30,height=2,text='Step Once',command=self.stepOnce)\n",
    "        self.buttonStep.pack(side=TOP, padx=5, pady=5)\n",
    "        self.showHelp(self.buttonStep,\"Steps the simulation only once\")\n",
    "        \n",
    "        # buttonReset\n",
    "        self.buttonReset = Button(self.frameRun,width=30,height=2,text='Reset',command=self.resetModel)\n",
    "        self.buttonReset.pack(side=TOP, padx=5, pady=5) \n",
    "        self.showHelp(self.buttonReset,\"Resets the simulation\")\n",
    "\n",
    "        # -----------------------------------\n",
    "        # frameSettings\n",
    "        # -----------------------------------\n",
    "        can = Canvas(self.frameSettings)\n",
    "        \n",
    "        lab = Label(can, width=25,height=1,text=\"Step size \", justify=LEFT, anchor=W,takefocus=0)\n",
    "        lab.pack(side='left')\n",
    "        \n",
    "        self.stepScale = Scale(can,from_=1, to=50, resolution=1,command=self.changeStepSize,orient=HORIZONTAL, width=25,length=150)\n",
    "        self.stepScale.set(self.stepSize)\n",
    "        self.showHelp(self.stepScale,\"Skips model redraw during every [n] simulation steps\\nResults in a faster model run.\")\n",
    "        self.stepScale.pack(side='left')\n",
    "        \n",
    "        can.pack(side='top')\n",
    "    \n",
    "        can = Canvas(self.frameSettings)\n",
    "        lab = Label(can, width=25,height=1,text=\"Step visualization delay in ms \", justify=LEFT, anchor=W,takefocus=0)\n",
    "        lab.pack(side='left')\n",
    "        self.stepDelay = Scale(can,from_=0, to=max(2000,self.timeInterval),\n",
    "                               resolution=10,command=self.changeStepDelay,orient=HORIZONTAL, width=25,length=150)\n",
    "        self.stepDelay.set(self.timeInterval)\n",
    "        self.showHelp(self.stepDelay,\"The visualization of each step is delays by the given number of milliseconds.\")\n",
    "        self.stepDelay.pack(side='left')\n",
    "        \n",
    "        can.pack(side='top')\n",
    "        \n",
    "        # --------------------------------------------\n",
    "        # frameInformation\n",
    "        # --------------------------------------------\n",
    "        scrollInfo = Scrollbar(self.frameInformation)\n",
    "        self.textInformation = Text(self.frameInformation, width=45,height=13,bg='lightgray',wrap=WORD,font=(\"Courier\",10))\n",
    "        scrollInfo.pack(side=RIGHT, fill=Y)\n",
    "        self.textInformation.pack(side=LEFT,fill=BOTH,expand=YES)\n",
    "        scrollInfo.config(command=self.textInformation.yview)\n",
    "        self.textInformation.config(yscrollcommand=scrollInfo.set)\n",
    "        \n",
    "        # --------------------------------------------\n",
    "        # ParameterSetters\n",
    "        # --------------------------------------------\n",
    "        for variableSetter in self.parameterSetters:\n",
    "            can = Canvas(self.frameParameters)\n",
    "            \n",
    "            lab = Label(can, width=25,height=1,text=variableSetter.__name__+\" \",anchor=W,takefocus=0)\n",
    "            lab.pack(side='left')\n",
    "            \n",
    "            ent = Entry(can, width=11)\n",
    "            ent.insert(0, str(variableSetter()))\n",
    "            \n",
    "            if variableSetter.__doc__ != None and len(variableSetter.__doc__) > 0:\n",
    "                self.showHelp(ent,variableSetter.__doc__.strip())\n",
    "                \n",
    "            ent.pack(side='left')\n",
    "                \n",
    "            can.pack(side='top')\n",
    "            \n",
    "            self.varEntries[variableSetter]=ent\n",
    "            \n",
    "        if len(self.parameterSetters) > 0:\n",
    "            self.buttonSaveParameters = Button(self.frameParameters,width=50,height=1,\n",
    "                                               command=self.saveParametersCmd,text=\"Save parameters to the running model\",state=DISABLED)\n",
    "            self.showHelp(self.buttonSaveParameters,\n",
    "                          \"Saves the parameter values.\\nNot all values may take effect on a running model\\nA model reset might be required.\")\n",
    "            self.buttonSaveParameters.pack(side='top',padx=5,pady=5)\n",
    "            self.buttonSaveParametersAndReset = Button(self.frameParameters,width=50,height=1,\n",
    "                                                       command=self.saveParametersAndResetCmd,text=\"Save parameters to the model and reset the model\")\n",
    "            self.showHelp(self.buttonSaveParametersAndReset,\"Saves the given parameter values and resets the model\")\n",
    "            self.buttonSaveParametersAndReset.pack(side='top',padx=5,pady=5)\n",
    "    # <<<<< Init >>>>>>>>>>>>>>>>>>>>>>>>>>>>>>>>>>>>>>>>>>>>>>>>>>>>>>>>>>>>>>>>>>>>>>>>>>>>>>>>>>>>>>>>>>>>>>>>>>>>>>\n",
    "    \n",
    "    def setStatusStr(self,newStatus):\n",
    "        self.statusStr = newStatus\n",
    "        self.statusText.set(self.statusStr)\n",
    "        \n",
    "        \n",
    "    # model control functions for changing parameters\n",
    "    def changeStepSize(self,val):        \n",
    "        self.stepSize = int(val)\n",
    "        \n",
    "    def changeStepDelay(self,val):        \n",
    "        self.timeInterval= int(val)\n",
    "        \n",
    "    def saveParametersCmd(self):\n",
    "        for variableSetter in self.parameterSetters:\n",
    "            variableSetter(float(self.varEntries[variableSetter].get()))\n",
    "            self.setStatusStr(\"New parameter values have been set\")\n",
    "            \n",
    "    def saveParametersAndResetCmd(self):\n",
    "        self.saveParametersCmd()\n",
    "        self.resetModel()\n",
    "\n",
    "        \n",
    "    # <<<< runEvent >>>>>\n",
    "    # This event is envoked when \"Run\" button is clicked.\n",
    "    def runEvent(self):\n",
    "        self.running = not self.running\n",
    "        if self.running:\n",
    "            self.rootWindow.after(self.timeInterval,self.stepModel)\n",
    "            self.runPauseString.set(\"Pause\")\n",
    "            self.buttonStep.configure(state=DISABLED)\n",
    "            self.buttonReset.configure(state=DISABLED)\n",
    "            if len(self.parameterSetters) > 0:\n",
    "                self.buttonSaveParameters.configure(state=NORMAL)\n",
    "                self.buttonSaveParametersAndReset.configure(state=DISABLED)     \n",
    "        else:\n",
    "            self.runPauseString.set(\"Continue Run\")\n",
    "            self.buttonStep.configure(state=NORMAL)\n",
    "            self.buttonReset.configure(state=NORMAL)\n",
    "            if len(self.parameterSetters) > 0:\n",
    "                self.buttonSaveParameters.configure(state=NORMAL)\n",
    "                self.buttonSaveParametersAndReset.configure(state=NORMAL)\n",
    "\n",
    "    def stepModel(self):\n",
    "        if self.running:\n",
    "            self.modelStepFunc()\n",
    "            self.currentStep += 1\n",
    "            self.setStatusStr(\"Step \"+str(self.currentStep))\n",
    "            self.status.configure(foreground='black')\n",
    "            if (self.currentStep) % self.stepSize == 0:\n",
    "                self.drawModel()\n",
    "            self.rootWindow.after(int(self.timeInterval*1.0/self.stepSize),self.stepModel)\n",
    "\n",
    "    def stepOnce(self):\n",
    "        self.running = False\n",
    "        self.runPauseString.set(\"Continue Run\")\n",
    "        self.modelStepFunc()\n",
    "        self.currentStep += 1\n",
    "        self.setStatusStr(\"Step \"+str(self.currentStep))\n",
    "        self.drawModel()\n",
    "        if len(self.parameterSetters) > 0:\n",
    "            self.buttonSaveParameters.configure(state=NORMAL)\n",
    "\n",
    "    def resetModel(self):\n",
    "        self.running = False        \n",
    "        self.runPauseString.set(\"Run\")\n",
    "        self.modelInitFunc()\n",
    "        self.currentStep = 0;\n",
    "        self.setStatusStr(\"Model has been reset\")\n",
    "        self.drawModel()\n",
    "\n",
    "    def drawModel(self):\n",
    "        PL.ion() # bug fix by Alex Hill in 2013\n",
    "        if self.modelFigure == None or self.modelFigure.canvas.manager.window == None:\n",
    "            self.modelFigure = PL.figure()\n",
    "        self.modelDrawFunc()\n",
    "        self.modelFigure.canvas.manager.window.update()\n",
    "        PL.show() # bug fix by Hiroki Sayama in 2016\n",
    "\n",
    "    def start(self,func=[]):\n",
    "        if len(func)==3:\n",
    "            self.modelInitFunc = func[0]\n",
    "            self.modelDrawFunc = func[1]\n",
    "            self.modelStepFunc = func[2]            \n",
    "            if (self.modelStepFunc.__doc__ != None and len(self.modelStepFunc.__doc__)>0):\n",
    "                self.showHelp(self.buttonStep,self.modelStepFunc.__doc__.strip())                \n",
    "            if (self.modelInitFunc.__doc__ != None and len(self.modelInitFunc.__doc__)>0):\n",
    "                self.textInformation.config(state=NORMAL)\n",
    "                self.textInformation.delete(1.0, END)\n",
    "                self.textInformation.insert(END, self.modelInitFunc.__doc__.strip())\n",
    "                self.textInformation.config(state=DISABLED)\n",
    "                \n",
    "            self.modelInitFunc()\n",
    "            self.drawModel()     \n",
    "        self.rootWindow.mainloop()\n",
    "\n",
    "    def quitGUI(self):\n",
    "        PL.close('all')\n",
    "        self.rootWindow.quit()\n",
    "        self.rootWindow.destroy()\n",
    "    \n",
    "    def showHelp(self, widget,text):\n",
    "        def setText(self):\n",
    "            self.statusText.set(text)\n",
    "            self.status.configure(foreground='blue')\n",
    "            \n",
    "        def showHelpLeave(self):\n",
    "            self.statusText.set(self.statusStr)\n",
    "            self.status.configure(foreground='black')\n",
    "        widget.bind(\"<Enter>\", lambda e : setText(self))\n",
    "        widget.bind(\"<Leave>\", lambda e : showHelpLeave(self))"
   ]
  },
  {
   "cell_type": "code",
   "execution_count": 2,
   "metadata": {},
   "outputs": [],
   "source": [
    "### INITIAL SIMULATION FROM SAYAMA BOOK (NO CHANGES MADE)\n",
    "\n",
    "import matplotlib\n",
    "from pylab import *\n",
    "\n",
    "n = 100 # size of space: n x n\n",
    "p = 0.1 # probability of initially panicky individuals\n",
    "\n",
    "def initialize():\n",
    "    global config, nextconfig\n",
    "    config = zeros([n, n])\n",
    "    for x in range(n):\n",
    "        for y in range(n):\n",
    "            config[x, y] = 1 if random() < p else 0\n",
    "    nextconfig = zeros([n, n])\n",
    "    \n",
    "def observe():\n",
    "    global config, nextconfig\n",
    "    cla()\n",
    "    imshow(config, vmin = 0, vmax = 1, cmap = cm.binary)\n",
    "\n",
    "def update():\n",
    "    global config, nextconfig\n",
    "    for x in range(n):\n",
    "        for y in range(n):\n",
    "            count = 0\n",
    "            for dx in [-1, 0, 1]:\n",
    "                for dy in [-1, 0, 1]:\n",
    "                    count += config[(x + dx) % n, (y + dy) % n]\n",
    "            nextconfig[x, y] = 1 if count >= 4 else 0\n",
    "    config, nextconfig = nextconfig, config"
   ]
  },
  {
   "cell_type": "code",
   "execution_count": 3,
   "metadata": {},
   "outputs": [
    {
     "data": {
      "image/png": "[encoded data removed]",
      "text/plain": [
       "<Figure size 432x288 with 1 Axes>"
      ]
     },
     "metadata": {
      "needs_background": "light"
     },
     "output_type": "display_data"
    }
   ],
   "source": [
    "initialize()\n",
    "for i in range(10):\n",
    "    update()\n",
    "    observe()"
   ]
  },
  {
   "cell_type": "markdown",
   "metadata": {},
   "source": [
    "### First task: Game of Life"
   ]
  },
  {
   "cell_type": "code",
   "execution_count": 54,
   "metadata": {},
   "outputs": [],
   "source": [
    "### MODIFIED SIMULATION FOR GAME OF LIFE\n",
    "\n",
    "import matplotlib.pyplot as plt\n",
    "from pylab import *\n",
    "\n",
    "n = 100 # size of space: n x n\n",
    "p = 0.1 # probability of initially panicky individuals\n",
    "density = []\n",
    "\n",
    "def initialize():\n",
    "    global config, nextconfig\n",
    "    config = zeros([n, n])\n",
    "    for x in range(n):\n",
    "        for y in range(n):\n",
    "            config[x, y] = 1 if random() < p else 0\n",
    "    nextconfig = zeros([n, n])\n",
    "    \n",
    "    \n",
    "def observe():\n",
    "    global config, nextconfig, density\n",
    "    cla()\n",
    "    imshow(config, vmin = 0, vmax = 1, cmap = cm.binary)\n",
    "    \n",
    "    count_alive = 0\n",
    "    for x in range(n):\n",
    "        for y in range(n):\n",
    "            if config[x, y] == 1:\n",
    "                count_alive += 1\n",
    "    density.append(count_alive/n)\n",
    "\n",
    "\n",
    "def update():\n",
    "    global config, nextconfig\n",
    "    for x in range(n):\n",
    "        for y in range(n):\n",
    "            count = 0\n",
    "            for dx in [-1, 0, 1]:\n",
    "                for dy in [-1, 0, 1]:\n",
    "                    count += config[(x + dx) % n, (y + dy) % n]\n",
    "                    # Applying Conway's rules:\n",
    "           \n",
    "        if config[x, y] == 1:                 # If the cell is currently alive      \n",
    "                if count == 2 or count == 3: # and has exactly 2 or 3 neighbors\n",
    "                    nextconfig[x, y] = 1     # it lives on\n",
    "                else:\n",
    "                    nextconfig[x, y] = 0     # Otherwise it dies either by loneliness ot overpopulation\n",
    "                    \n",
    "        elif config[x, y] == 0:               # If the cell is currently dead      \n",
    "                if count == 3:               # and has exactly 3 neighbors\n",
    "                    nextconfig[x, y] = 1     # it is reborn\n",
    "                else:\n",
    "                    nextconfig[x, y] = 0     # Otherwise it remains dead\n",
    "                    \n",
    "    config, nextconfig = nextconfig, config"
   ]
  },
  {
   "cell_type": "code",
   "execution_count": 55,
   "metadata": {},
   "outputs": [
    {
     "data": {
      "image/png": "[encoded data removed]",
      "text/plain": [
       "<Figure size 432x288 with 1 Axes>"
      ]
     },
     "metadata": {
      "needs_background": "light"
     },
     "output_type": "display_data"
    }
   ],
   "source": [
    "initialize()\n",
    "for i in range(10):\n",
    "    update()\n",
    "    observe()"
   ]
  },
  {
   "cell_type": "code",
   "execution_count": 57,
   "metadata": {},
   "outputs": [
    {
     "name": "stdout",
     "output_type": "stream",
     "text": [
      "[0.01, 10.01, 0.01, 10.01, 0.01, 10.01, 0.01, 10.01, 0.01, 10.01]\n"
     ]
    },
    {
     "data": {
      "text/plain": [
       "[<matplotlib.lines.Line2D at 0x126f85b90>]"
      ]
     },
     "execution_count": 57,
     "metadata": {},
     "output_type": "execute_result"
    },
    {
     "data": {
      "image/png": "[encoded data removed]",
      "text/plain": [
       "<Figure size 432x288 with 1 Axes>"
      ]
     },
     "metadata": {
      "needs_background": "light"
     },
     "output_type": "display_data"
    }
   ],
   "source": [
    "print(density)\n",
    "plt.plot(density)"
   ]
  },
  {
   "cell_type": "markdown",
   "metadata": {},
   "source": [
    "It looks like there is a big above."
   ]
  },
  {
   "cell_type": "markdown",
   "metadata": {},
   "source": [
    "### Second task: interactive parameter setting"
   ]
  },
  {
   "cell_type": "code",
   "execution_count": 46,
   "metadata": {},
   "outputs": [],
   "source": [
    "### INITIAL SIMULATION FROM SAYAMA BOOK (NO CHANGES MADE)\n",
    "\n",
    "import matplotlib\n",
    "#from pylab import *\n",
    "\n",
    "n = 100 # size of space: n x n\n",
    "\n",
    "def initialize(p):\n",
    "    global config, nextconfig\n",
    "    config = zeros([n, n])\n",
    "    for x in range(n):\n",
    "        for y in range(n):\n",
    "            config[x, y] = 1 if random() < p else 0\n",
    "    nextconfig = zeros([n, n])\n",
    "    \n",
    "def observe():\n",
    "    global config, nextconfig\n",
    "    cla()\n",
    "    imshow(config, vmin = 0, vmax = 1, cmap = cm.binary)\n",
    "\n",
    "def update():\n",
    "    global config, nextconfig\n",
    "    for x in range(n):\n",
    "        for y in range(n):\n",
    "            count = 0\n",
    "            for dx in [-1, 0, 1]:\n",
    "                for dy in [-1, 0, 1]:\n",
    "                    count += config[(x + dx) % n, (y + dy) % n]\n",
    "            nextconfig[x, y] = 1 if count >= 4 else 0\n",
    "    config, nextconfig = nextconfig, config"
   ]
  },
  {
   "cell_type": "code",
   "execution_count": 51,
   "metadata": {},
   "outputs": [
    {
     "data": {
      "image/png": "[encoded data removed]",
      "text/plain": [
       "<Figure size 432x288 with 1 Axes>"
      ]
     },
     "metadata": {
      "needs_background": "light"
     },
     "output_type": "display_data"
    }
   ],
   "source": [
    "initialize(0.4)\n",
    "for i in range(10):\n",
    "    update()\n",
    "    observe()"
   ]
  },
  {
   "cell_type": "code",
   "execution_count": 53,
   "metadata": {},
   "outputs": [
    {
     "data": {
      "image/png": "[encoded data removed]",
      "text/plain": [
       "<Figure size 432x288 with 1 Axes>"
      ]
     },
     "metadata": {
      "needs_background": "light"
     },
     "output_type": "display_data"
    }
   ],
   "source": [
    "initialize(0.5)\n",
    "for i in range(10):\n",
    "    update()\n",
    "    observe()"
   ]
  },
  {
   "cell_type": "markdown",
   "metadata": {},
   "source": [
    "Experiment with initial density parameter in the Panic CA. Also answer the following\n",
    "question: Around which value of the initial density parameter does the phase transition (the\n",
    "whole space getting filled with panic) happen?"
   ]
  },
  {
   "cell_type": "markdown",
   "metadata": {},
   "source": [
    "At p=0.5, the entire system state is panic."
   ]
  }
 ],
 "metadata": {
  "kernelspec": {
   "display_name": "Python 3",
   "language": "python",
   "name": "python3"
  },
  "language_info": {
   "codemirror_mode": {
    "name": "ipython",
    "version": 3
   },
   "file_extension": ".py",
   "mimetype": "text/x-python",
   "name": "python",
   "nbconvert_exporter": "python",
   "pygments_lexer": "ipython3",
   "version": "3.7.4"
  }
 },
 "nbformat": 4,
 "nbformat_minor": 2
}
