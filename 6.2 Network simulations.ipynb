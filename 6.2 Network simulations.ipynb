{
 "cells": [
  {
   "cell_type": "code",
   "execution_count": 1,
   "metadata": {},
   "outputs": [],
   "source": [
    "import matplotlib\n",
    "#matplotlib.use('TkAgg')\n",
    "from pylab import *\n",
    "import networkx as nx\n",
    "import random as rd"
   ]
  },
  {
   "cell_type": "code",
   "execution_count": 20,
   "metadata": {},
   "outputs": [],
   "source": [
    "def initialize():\n",
    "    global g\n",
    "    g = nx.karate_club_graph()\n",
    "    g.pos = nx.spring_layout(g)\n",
    "    for i in g.nodes:\n",
    "        g.nodes[i]['state'] = 1 if random() < .5 else 0\n",
    "\n",
    "def observe():\n",
    "    global g, consensus, steps\n",
    "    cla()\n",
    "    nx.draw(g, vmin = 0, vmax = 1,\n",
    "            node_color = [g.nodes[i]['state'] for i in g.nodes],\n",
    "            pos = g.pos)\n",
    "    \n",
    "    print('Len:', len(g))\n",
    "    print('Con:', consensus)\n",
    "        \n",
    "def update():\n",
    "    global g, consensus, steps\n",
    "    listener = rd.choice(list(g.nodes))\n",
    "    speaker = rd.choice(list(g.neighbors(listener)))\n",
    "    g.nodes[listener]['state'] = g.nodes[speaker]['state']\n",
    "    \n",
    "    for i in g.nodes:\n",
    "        if g.nodes[i]['state'] == 1:\n",
    "            consensus += 1\n",
    "    \n",
    "    steps += 1\n",
    "    \n",
    "def run():\n",
    "    global consensus, steps\n",
    "    while consensus < len(g):\n",
    "        update()\n",
    "\n",
    "#import pycxsimulator\n",
    "#pycxsimulator.GUI().start(func=[initialize, observe, run()])"
   ]
  },
  {
   "cell_type": "code",
   "execution_count": 23,
   "metadata": {},
   "outputs": [],
   "source": [
    "times = []\n",
    "\n",
    "for i in range(100):\n",
    "    consensus = 0\n",
    "    steps = 0\n",
    "    initialize()\n",
    "    run()\n",
    "    #observe()\n",
    "    times.append(steps)"
   ]
  },
  {
   "cell_type": "code",
   "execution_count": 24,
   "metadata": {},
   "outputs": [
    {
     "name": "stdout",
     "output_type": "stream",
     "text": [
      "[2, 3, 3, 3, 4, 2, 2, 2, 3, 3, 2, 2, 3, 3, 2, 3, 3, 2, 2, 3, 2, 3, 2, 2, 3, 2, 4, 2, 2, 3, 3, 3, 3, 2, 3, 2, 3, 3, 3, 2, 3, 2, 2, 3, 2, 2, 2, 3, 2, 2, 2, 2, 2, 3, 3, 3, 3, 2, 3, 2, 2, 3, 4, 2, 2, 2, 2, 2, 3, 3, 4, 2, 2, 2, 2, 2, 2, 4, 3, 4, 3, 3, 2, 2, 2, 3, 2, 3, 3, 3, 3, 3, 3, 3, 3, 2, 3, 4, 3, 2]\n"
     ]
    },
    {
     "data": {
      "text/plain": [
       "[<matplotlib.lines.Line2D at 0xa19b0b3d0>]"
      ]
     },
     "execution_count": 24,
     "metadata": {},
     "output_type": "execute_result"
    },
    {
     "data": {
      "image/png": "[encoded data removed]",
      "text/plain": [
       "<Figure size 432x288 with 1 Axes>"
      ]
     },
     "metadata": {
      "needs_background": "light"
     },
     "output_type": "display_data"
    }
   ],
   "source": [
    "print(times)\n",
    "plt.plot(times)"
   ]
  },
  {
   "cell_type": "markdown",
   "metadata": {},
   "source": [
    "### Reverse voter model"
   ]
  },
  {
   "cell_type": "code",
   "execution_count": 25,
   "metadata": {},
   "outputs": [],
   "source": [
    "def initialize():\n",
    "    global g\n",
    "    g = nx.karate_club_graph()\n",
    "    g.pos = nx.spring_layout(g)\n",
    "    for i in g.nodes:\n",
    "        g.nodes[i]['state'] = 1 if random() < .5 else 0\n",
    "\n",
    "def observe():\n",
    "    global g, consensus, steps\n",
    "    cla()\n",
    "    nx.draw(g, vmin = 0, vmax = 1,\n",
    "            node_color = [g.nodes[i]['state'] for i in g.nodes],\n",
    "            pos = g.pos)\n",
    "    \n",
    "    print('Len:', len(g))\n",
    "    print('Con:', consensus)\n",
    "        \n",
    "def update():\n",
    "    global g, consensus, steps\n",
    "    # Swap the variables names in the code above\n",
    "    speaker = rd.choice(list(g.nodes))\n",
    "    listener = rd.choice(list(g.neighbors(speaker)))\n",
    "    g.nodes[listener]['state'] = g.nodes[speaker]['state']\n",
    "    \n",
    "    for i in g.nodes:\n",
    "        if g.nodes[i]['state'] == 1:\n",
    "            consensus += 1\n",
    "    \n",
    "    steps += 1\n",
    "    \n",
    "def run():\n",
    "    global consensus, steps\n",
    "    while consensus < len(g):\n",
    "        update()"
   ]
  },
  {
   "cell_type": "code",
   "execution_count": 26,
   "metadata": {},
   "outputs": [],
   "source": [
    "times = []\n",
    "\n",
    "for i in range(100):\n",
    "    consensus = 0\n",
    "    steps = 0\n",
    "    initialize()\n",
    "    run()\n",
    "    #observe()\n",
    "    times.append(steps)"
   ]
  },
  {
   "cell_type": "code",
   "execution_count": 27,
   "metadata": {},
   "outputs": [
    {
     "name": "stdout",
     "output_type": "stream",
     "text": [
      "[2, 3, 3, 2, 3, 2, 3, 3, 3, 2, 2, 2, 2, 2, 2, 2, 2, 3, 2, 2, 2, 3, 3, 3, 2, 3, 3, 2, 3, 2, 2, 3, 3, 2, 2, 3, 4, 3, 2, 3, 2, 2, 3, 2, 3, 3, 2, 3, 2, 2, 2, 2, 3, 4, 3, 2, 2, 3, 3, 2, 2, 2, 3, 2, 2, 3, 2, 2, 2, 3, 2, 3, 2, 3, 3, 3, 2, 2, 3, 3, 2, 3, 3, 3, 2, 3, 2, 2, 2, 2, 2, 2, 2, 3, 3, 3, 3, 2, 3, 3]\n"
     ]
    },
    {
     "data": {
      "text/plain": [
       "[<matplotlib.lines.Line2D at 0xa19c8a390>]"
      ]
     },
     "execution_count": 27,
     "metadata": {},
     "output_type": "execute_result"
    },
    {
     "data": {
      "image/png": "[encoded data removed]",
      "text/plain": [
       "<Figure size 432x288 with 1 Axes>"
      ]
     },
     "metadata": {
      "needs_background": "light"
     },
     "output_type": "display_data"
    }
   ],
   "source": [
    "print(times)\n",
    "plt.plot(times)"
   ]
  },
  {
   "cell_type": "markdown",
   "metadata": {},
   "source": [
    "### Edge-based voter model"
   ]
  },
  {
   "cell_type": "code",
   "execution_count": null,
   "metadata": {},
   "outputs": [],
   "source": [
    "def initialize():\n",
    "    global g\n",
    "    g = nx.karate_club_graph()\n",
    "    g.pos = nx.spring_layout(g)\n",
    "    for i in g.nodes:\n",
    "        g.nodes[i]['state'] = 1 if random() < .5 else 0\n",
    "\n",
    "def observe():\n",
    "    global g, consensus, steps\n",
    "    cla()\n",
    "    nx.draw(g, vmin = 0, vmax = 1,\n",
    "            node_color = [g.nodes[i]['state'] for i in g.nodes],\n",
    "            pos = g.pos)\n",
    "    \n",
    "    print('Len:', len(g))\n",
    "    print('Con:', consensus)\n",
    "        \n",
    "def update():\n",
    "    global g, consensus, steps\n",
    "    listener = rd.choice(list(g.nodes))\n",
    "    speaker = rd.choice(list(g.neighbors(listener)))\n",
    "    g.nodes[listener]['state'] = g.nodes[speaker]['state']\n",
    "    \n",
    "    for i in g.nodes:\n",
    "        if g.nodes[i]['state'] == 1:\n",
    "            consensus += 1\n",
    "    \n",
    "    steps += 1\n",
    "    \n",
    "def run():\n",
    "    global consensus, steps\n",
    "    while consensus < len(g):\n",
    "        update()"
   ]
  },
  {
   "cell_type": "code",
   "execution_count": null,
   "metadata": {},
   "outputs": [],
   "source": [
    "times = []\n",
    "\n",
    "for i in range(100):\n",
    "    consensus = 0\n",
    "    steps = 0\n",
    "    initialize()\n",
    "    run()\n",
    "    #observe()\n",
    "    times.append(steps)"
   ]
  },
  {
   "cell_type": "code",
   "execution_count": null,
   "metadata": {},
   "outputs": [],
   "source": [
    "print(times)\n",
    "plt.plot(times)"
   ]
  },
  {
   "cell_type": "markdown",
   "metadata": {},
   "source": [
    "### EPIDEMIC MODEL"
   ]
  },
  {
   "cell_type": "code",
   "execution_count": null,
   "metadata": {},
   "outputs": [],
   "source": [
    "import matplotlib\n",
    "matplotlib.use('TkAgg')\n",
    "from pylab import *\n",
    "import networkx as nx\n",
    "\n",
    "def initialize():\n",
    "    global g, nextg\n",
    "    g = nx.karate_club_graph()\n",
    "    g.pos = nx.spring_layout(g)\n",
    "    for i in g.nodes:\n",
    "        g.nodes[i]['state'] = 1 if random() < .5 else 0\n",
    "    nextg = g.copy()\n",
    "    nextg.pos = g.pos\n",
    "\n",
    "def observe():\n",
    "    global g, nextg\n",
    "    cla()\n",
    "    nx.draw(g, vmin = 0, vmax = 1,\n",
    "            node_color = [g.nodes[i]['state'] for i in g.nodes],\n",
    "            pos = g.pos)\n",
    "\n",
    "def update():\n",
    "    global g, nextg\n",
    "    for i in g.nodes:\n",
    "        count = g.nodes[i]['state']\n",
    "        for j in g.neighbors(i):\n",
    "            count += g.nodes[j]['state']\n",
    "        ratio = count / (g.degree[i] + 1.0)\n",
    "        nextg.nodes[i]['state'] = 1 if ratio > .5 \\\n",
    "                                  else 0 if ratio < .5 \\\n",
    "                                  else 1 if random() < .5 else 0\n",
    "    g, nextg = nextg, g\n",
    "\n",
    "import pycxsimulator\n",
    "pycxsimulator.GUI().start(func=[initialize, observe, update])"
   ]
  }
 ],
 "metadata": {
  "kernelspec": {
   "display_name": "Python 3",
   "language": "python",
   "name": "python3"
  },
  "language_info": {
   "codemirror_mode": {
    "name": "ipython",
    "version": 3
   },
   "file_extension": ".py",
   "mimetype": "text/x-python",
   "name": "python",
   "nbconvert_exporter": "python",
   "pygments_lexer": "ipython3",
   "version": "3.7.4"
  }
 },
 "nbformat": 4,
 "nbformat_minor": 2
}
