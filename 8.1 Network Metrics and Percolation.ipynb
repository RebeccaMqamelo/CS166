{
 "cells": [
  {
   "cell_type": "markdown",
   "metadata": {},
   "source": [
    "### Pre-class work 8.1: Network metrics and percolation"
   ]
  },
  {
   "cell_type": "markdown",
   "metadata": {},
   "source": [
    "Following the mathematical analysis in the textbook, $n$ is defined as the number of nodes in a\n",
    "network, and $q$ is defined as the probability that a random node from the network is not part of\n",
    "the largest connected component (LCC) of the network. The derivation in the textbook shows that $q$ is a solution to the equation $q=e^{<k>(q-1)}$ where ⟨k⟩ is the average degree of the network.\n",
    "\n",
    "Question: Given the information above, what is the theoretical estimate for the number of nodes in the LCC, expressed in terms of the known variables, $n$, $q$, and ⟨k⟩ ?"
   ]
  },
  {
   "cell_type": "markdown",
   "metadata": {},
   "source": [
    "For each node in $n$, the probability it is not part of the LCC is $q$, therefore the probability that it is part of the LCC is the complement is: $n\\times(1-q)$"
   ]
  },
  {
   "cell_type": "code",
   "execution_count": 1,
   "metadata": {},
   "outputs": [],
   "source": [
    "from scipy.optimize import root\n",
    "import numpy as np\n",
    "import matplotlib.pyplot as plt"
   ]
  },
  {
   "cell_type": "code",
   "execution_count": 3,
   "metadata": {},
   "outputs": [],
   "source": [
    "def calculate_q(k):\n",
    "    '''\n",
    "    Use a numerical root finder to determine q from the equation\n",
    "    q = exp(k*(q­1)).\n",
    "    '''\n",
    "    return root(lambda q: q - np.exp(k * (q - 1)), 0).x[0]"
   ]
  },
  {
   "cell_type": "code",
   "execution_count": 4,
   "metadata": {},
   "outputs": [
    {
     "data": {
      "image/png": "[encoded data removed]",
      "text/plain": [
       "<Figure size 432x288 with 1 Axes>"
      ]
     },
     "metadata": {
      "needs_background": "light"
     },
     "output_type": "display_data"
    }
   ],
   "source": [
    "n = 1000\n",
    "k_array = np.linspace(0, 5, 1000)\n",
    "LCCs = []\n",
    "for k in k_array:\n",
    "    q = calculate_q(k)\n",
    "    LCCs.append(np.floor(n*(1-q)))\n",
    "    \n",
    "plt.plot(k_array, LCCs)\n",
    "plt.show()"
   ]
  }
 ],
 "metadata": {
  "kernelspec": {
   "display_name": "Python 3",
   "language": "python",
   "name": "python3"
  },
  "language_info": {
   "codemirror_mode": {
    "name": "ipython",
    "version": 3
   },
   "file_extension": ".py",
   "mimetype": "text/x-python",
   "name": "python",
   "nbconvert_exporter": "python",
   "pygments_lexer": "ipython3",
   "version": "3.7.4"
  }
 },
 "nbformat": 4,
 "nbformat_minor": 2
}
