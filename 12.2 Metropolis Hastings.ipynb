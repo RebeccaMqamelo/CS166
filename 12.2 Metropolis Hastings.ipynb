{
 "cells": [
  {
   "cell_type": "markdown",
   "metadata": {},
   "source": [
    "CS166 Pre-class work 12.2\n",
    "# Metropolis Hastings\n",
    "#### April 2, 2020 | Rebecca Mqamelo "
   ]
  },
  {
   "cell_type": "code",
   "execution_count": 2,
   "metadata": {},
   "outputs": [],
   "source": [
    "import numpy as np\n",
    "import matplotlib.pyplot as plt\n",
    "%matplotlib inline"
   ]
  },
  {
   "cell_type": "code",
   "execution_count": 3,
   "metadata": {},
   "outputs": [],
   "source": [
    "def f(x):\n",
    "    Z = 24.44321494051954\n",
    "    if abs(x) > 7:\n",
    "        return 0\n",
    "    elif abs(x) > 3:\n",
    "        return 3 * (1 - (x / 7) ** 2) ** 0.5 / Z\n",
    "    elif abs(x) > 1:\n",
    "        return ((3 - abs(x)) / 2 - 3/7 * 10**0.5 * ((3 - x**2 + 2*abs(x))**0.5 - 2)) / Z\n",
    "    elif abs(x) > 0.75:\n",
    "        return (9 - 8 * abs(x)) / Z\n",
    "    elif abs(x) > 0.5:\n",
    "        return (3 * abs(x) + 0.75) / Z\n",
    "    else:\n",
    "        return 2.25 / Z"
   ]
  },
  {
   "cell_type": "code",
   "execution_count": 4,
   "metadata": {},
   "outputs": [],
   "source": [
    "# Define normal distribution with standard deviation=2\n",
    "def g(x):\n",
    "    return np.random.normal(x,2)"
   ]
  },
  {
   "cell_type": "code",
   "execution_count": 8,
   "metadata": {},
   "outputs": [],
   "source": [
    "class MH():\n",
    "    \n",
    "    def __init__(self,f,g):\n",
    "        self.f = f\n",
    "        self.g = g\n",
    "        self.reset()\n",
    "        \n",
    "    def reset(self):\n",
    "        # initialize from 0, avoid initializing to f(x)=0\n",
    "        self.state = self.g(0)\n",
    "        if self.f(self.state) == 0:\n",
    "            self.reset()\n",
    "        self.record = []\n",
    "        \n",
    "    def step(self):\n",
    "        proposed = self.g(self.state)\n",
    "        decision = min(1,self.f(proposed)/self.f(self.state))\n",
    "        if np.random.uniform(0,1) < decision:\n",
    "            self.state = proposed\n",
    "            \n",
    "    def observe(self,binsratio=10,xmin=-8,xmax=8):\n",
    "        plt.figure(figsize=(16,7))\n",
    "        plt.hist(self.record,bins=len(self.record)//binsratio, density=True, color=\"black\")\n",
    "        xs = np.linspace(xmin, xmax, 1000)\n",
    "        plt.show()\n",
    "    \n",
    "    def simulate(self,steps=100000,record=100):\n",
    "        self.reset()\n",
    "        for i in range(steps):\n",
    "            self.step()\n",
    "            if record and i%record==0:\n",
    "                self.record.append(self.state)\n",
    "                \n",
    "    def draw(self,steps=100000):\n",
    "        self.simulate(steps=steps,record=None)\n",
    "        return self.state"
   ]
  },
  {
   "cell_type": "code",
   "execution_count": 9,
   "metadata": {},
   "outputs": [
    {
     "data": {
      "image/png": "[encoded data removed]",
      "text/plain": [
       "<Figure size 1152x504 with 1 Axes>"
      ]
     },
     "metadata": {
      "needs_background": "light"
     },
     "output_type": "display_data"
    }
   ],
   "source": [
    "sim = MH(f,g)\n",
    "sim.simulate(100000,record=10)\n",
    "sim.observe()"
   ]
  },
  {
   "cell_type": "markdown",
   "metadata": {},
   "source": [
    "Notes"
   ]
  },
  {
   "cell_type": "code",
   "execution_count": 5,
   "metadata": {},
   "outputs": [],
   "source": [
    "def sampler(data, samples=4, mu_init=.5, proposal_width=2, plot=False, mu_prior_mu=0, mu_prior_sd=1.):\n",
    "    mu_current = mu_init\n",
    "    posterior = [mu_current]\n",
    "    for i in range(samples):\n",
    "        # suggest new position\n",
    "        mu_proposal = norm(mu_current, proposal_width).rvs()\n",
    "\n",
    "        # Compute likelihood by multiplying probabilities of each data point\n",
    "        likelihood_current = norm(mu_current, 1).pdf(data).prod()\n",
    "        likelihood_proposal = norm(mu_proposal, 1).pdf(data).prod()\n",
    "        \n",
    "        # Compute prior probability of current and proposed mu        \n",
    "        prior_current = norm(mu_prior_mu, mu_prior_sd).pdf(mu_current)\n",
    "        prior_proposal = norm(mu_prior_mu, mu_prior_sd).pdf(mu_proposal)\n",
    "        \n",
    "        p_current = likelihood_current * prior_current\n",
    "        p_proposal = likelihood_proposal * prior_proposal\n",
    "        \n",
    "        # Accept proposal?\n",
    "        p_accept = p_proposal / p_current\n",
    "        \n",
    "        # Usually would include prior probability, which we neglect here for simplicity\n",
    "        accept = np.random.rand() < p_accept\n",
    "        \n",
    "        if plot:\n",
    "            plot_proposal(mu_current, mu_proposal, mu_prior_mu, mu_prior_sd, data, accept, posterior, i)\n",
    "        \n",
    "        if accept:\n",
    "            # Update position\n",
    "            mu_current = mu_proposal\n",
    "        \n",
    "        posterior.append(mu_current)\n",
    "        \n",
    "    return np.array(posterior)\n",
    "\n",
    "# Function to display\n",
    "def plot_proposal(mu_current, mu_proposal, mu_prior_mu, mu_prior_sd, data, accepted, trace, i):\n",
    "    from copy import copy\n",
    "    trace = copy(trace)\n",
    "    fig, (ax1, ax2, ax3, ax4) = plt.subplots(ncols=4, figsize=(16, 4))\n",
    "    fig.suptitle('Iteration %i' % (i + 1))\n",
    "    x = np.linspace(-3, 3, 5000)\n",
    "    color = 'g' if accepted else 'r'\n",
    "        \n",
    "    # Plot prior\n",
    "    prior_current = norm(mu_prior_mu, mu_prior_sd).pdf(mu_current)\n",
    "    prior_proposal = norm(mu_prior_mu, mu_prior_sd).pdf(mu_proposal)\n",
    "    prior = norm(mu_prior_mu, mu_prior_sd).pdf(x)\n",
    "    ax1.plot(x, prior)\n",
    "    ax1.plot([mu_current] * 2, [0, prior_current], marker='o', color='b')\n",
    "    ax1.plot([mu_proposal] * 2, [0, prior_proposal], marker='o', color=color)\n",
    "    ax1.annotate(\"\", xy=(mu_proposal, 0.2), xytext=(mu_current, 0.2),\n",
    "                 arrowprops=dict(arrowstyle=\"->\", lw=2.))\n",
    "    ax1.set(ylabel='Probability Density', title='current: prior(mu=%.2f) = %.2f\\nproposal: prior(mu=%.2f) = %.2f' % (mu_current, prior_current, mu_proposal, prior_proposal))\n",
    "    \n",
    "    # Likelihood\n",
    "    likelihood_current = norm(mu_current, 1).pdf(data).prod()\n",
    "    likelihood_proposal = norm(mu_proposal, 1).pdf(data).prod()\n",
    "    y = norm(loc=mu_proposal, scale=1).pdf(x)\n",
    "    sns.distplot(data, kde=False, norm_hist=True, ax=ax2)\n",
    "    ax2.plot(x, y, color=color)\n",
    "    ax2.axvline(mu_current, color='b', linestyle='--', label='mu_current')\n",
    "    ax2.axvline(mu_proposal, color=color, linestyle='--', label='mu_proposal')\n",
    "    #ax2.title('Proposal {}'.format('accepted' if accepted else 'rejected'))\n",
    "    ax2.annotate(\"\", xy=(mu_proposal, 0.2), xytext=(mu_current, 0.2),\n",
    "                 arrowprops=dict(arrowstyle=\"->\", lw=2.))\n",
    "    ax2.set(title='likelihood(mu=%.2f) = %.2f\\nlikelihood(mu=%.2f) = %.2f' % (mu_current, 1e14*likelihood_current, mu_proposal, 1e14*likelihood_proposal))\n",
    "    \n",
    "    # Posterior\n",
    "    posterior_analytical = calc_posterior_analytical(data, x, mu_prior_mu, mu_prior_sd)\n",
    "    ax3.plot(x, posterior_analytical)\n",
    "    posterior_current = calc_posterior_analytical(data, mu_current, mu_prior_mu, mu_prior_sd)\n",
    "    posterior_proposal = calc_posterior_analytical(data, mu_proposal, mu_prior_mu, mu_prior_sd)\n",
    "    ax3.plot([mu_current] * 2, [0, posterior_current], marker='o', color='b')\n",
    "    ax3.plot([mu_proposal] * 2, [0, posterior_proposal], marker='o', color=color)\n",
    "    ax3.annotate(\"\", xy=(mu_proposal, 0.2), xytext=(mu_current, 0.2),\n",
    "                 arrowprops=dict(arrowstyle=\"->\", lw=2.))\n",
    "    #x3.set(title=r'prior x likelihood $\\propto$ posterior')\n",
    "    ax3.set(title='posterior(mu=%.2f) = %.5f\\nposterior(mu=%.2f) = %.5f' % (mu_current, posterior_current, mu_proposal, posterior_proposal))\n",
    "    \n",
    "    if accepted:\n",
    "        trace.append(mu_proposal)\n",
    "    else:\n",
    "        trace.append(mu_current)\n",
    "    ax4.plot(trace)\n",
    "    ax4.set(xlabel='iteration', ylabel='mu', title='trace')\n",
    "    plt.tight_layout()\n",
    "    #plt.legend()"
   ]
  },
  {
   "cell_type": "code",
   "execution_count": null,
   "metadata": {},
   "outputs": [],
   "source": []
  }
 ],
 "metadata": {
  "kernelspec": {
   "display_name": "Python 3",
   "language": "python",
   "name": "python3"
  },
  "language_info": {
   "codemirror_mode": {
    "name": "ipython",
    "version": 3
   },
   "file_extension": ".py",
   "mimetype": "text/x-python",
   "name": "python",
   "nbconvert_exporter": "python",
   "pygments_lexer": "ipython3",
   "version": "3.7.4"
  }
 },
 "nbformat": 4,
 "nbformat_minor": 2
}
